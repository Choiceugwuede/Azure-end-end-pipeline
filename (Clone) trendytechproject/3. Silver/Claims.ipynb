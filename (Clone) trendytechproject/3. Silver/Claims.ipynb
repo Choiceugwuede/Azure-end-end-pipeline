{
 "cells": [
  {
   "cell_type": "code",
   "execution_count": 0,
   "metadata": {
    "application/vnd.databricks.v1+cell": {
     "cellMetadata": {
      "byteLimit": 2048000,
      "rowLimit": 10000
     },
     "inputWidgets": {},
     "nuid": "90445332-8cfc-4657-82ab-d0453dc3ff95",
     "showTitle": false,
     "tableResultSettingsMap": {},
     "title": ""
    }
   },
   "outputs": [],
   "source": [
    "# Databricks notebook source\n",
    "from pyspark.sql import SparkSession, functions as f\n",
    "\n",
    "claims_df=spark.read.csv(\"/mnt/landing/claims/*.csv\",header=True)\n",
    "\n",
    "claims_df = claims_df.withColumn(\n",
    "    \"datasource\",\n",
    "    f.when(f.input_file_name().contains(\"hospital1\"), \"hosa\").when(f.input_file_name().contains(\"hospital2\"), \"hosb\")\n",
    "     .otherwise(None)\n",
    ")\n",
    "\n",
    "display(claims_df)\n",
    "\n",
    "\n",
    "\n"
   ]
  },
  {
   "cell_type": "code",
   "execution_count": 0,
   "metadata": {
    "application/vnd.databricks.v1+cell": {
     "cellMetadata": {
      "byteLimit": 2048000,
      "rowLimit": 10000
     },
     "inputWidgets": {},
     "nuid": "faf2a1c4-d661-4020-a49f-888056f5ed32",
     "showTitle": false,
     "tableResultSettingsMap": {},
     "title": ""
    }
   },
   "outputs": [],
   "source": [
    "claims_df.count()"
   ]
  },
  {
   "cell_type": "code",
   "execution_count": 0,
   "metadata": {
    "application/vnd.databricks.v1+cell": {
     "cellMetadata": {
      "byteLimit": 2048000,
      "rowLimit": 10000
     },
     "inputWidgets": {},
     "nuid": "404c3e27-848a-49a4-b8af-97bc32aefe12",
     "showTitle": false,
     "tableResultSettingsMap": {},
     "title": ""
    }
   },
   "outputs": [],
   "source": [
    "# DBTITLE 1,Parquet file creation\n",
    "claims_df.write.format(\"parquet\").mode(\"overwrite\").save(\"/mnt/bronze/claims/\")"
   ]
  },
  {
   "cell_type": "code",
   "execution_count": 0,
   "metadata": {
    "application/vnd.databricks.v1+cell": {
     "cellMetadata": {
      "byteLimit": 2048000,
      "rowLimit": 10000
     },
     "inputWidgets": {},
     "nuid": "f2fdfca6-c57b-43f3-9496-3030154786a9",
     "showTitle": false,
     "tableResultSettingsMap": {},
     "title": ""
    }
   },
   "outputs": [],
   "source": [
    "claims_df.createOrReplaceTempView(\"claims\")"
   ]
  },
  {
   "cell_type": "code",
   "execution_count": 0,
   "metadata": {
    "application/vnd.databricks.v1+cell": {
     "cellMetadata": {
      "byteLimit": 2048000,
      "implicitDf": true,
      "rowLimit": 10000
     },
     "inputWidgets": {},
     "nuid": "c78ab3b0-177c-4aab-848f-1f791d37fa0c",
     "showTitle": false,
     "tableResultSettingsMap": {},
     "title": ""
    }
   },
   "outputs": [],
   "source": [
    " %sql\n",
    " CREATE OR REPLACE TEMP VIEW quality_checks AS\n",
    " SELECT \n",
    "  CONCAT(ClaimID,'-', datasource) AS ClaimID,\n",
    " ClaimID AS  SRC_ClaimID,\n",
    " TransactionID,\n",
    " PatientID,\n",
    " EncounterID,\n",
    " ProviderID,\n",
    " DeptID,\n",
    " cast(ServiceDate as date) ServiceDate,\n",
    " cast(ClaimDate as date) ClaimDate,\n",
    " PayorID,\n",
    " ClaimAmount,\n",
    " PaidAmount,\n",
    " ClaimStatus,\n",
    " PayorType,\n",
    " Deductible,\n",
    " Coinsurance,\n",
    " Copay,\n",
    " cast(InsertDate as date) as SRC_InsertDate,\n",
    " cast(ModifiedDate as date) as SRC_ModifiedDate,\n",
    " datasource,\n",
    "     CASE \n",
    "         WHEN ClaimID IS NULL OR TransactionID IS NULL OR PatientID IS NULL or ServiceDate IS NULL THEN TRUE\n",
    "         ELSE FALSE\n",
    "     END AS is_quarantined\n",
    " FROM claims"
   ]
  },
  {
   "cell_type": "code",
   "execution_count": 0,
   "metadata": {
    "application/vnd.databricks.v1+cell": {
     "cellMetadata": {
      "byteLimit": 2048000,
      "implicitDf": true,
      "rowLimit": 10000
     },
     "inputWidgets": {},
     "nuid": "4dfa5d8f-168f-4b45-96c1-952cb76a0ebf",
     "showTitle": false,
     "tableResultSettingsMap": {},
     "title": ""
    }
   },
   "outputs": [],
   "source": [
    " %sql\n",
    " select * from quality_checks"
   ]
  },
  {
   "cell_type": "code",
   "execution_count": 0,
   "metadata": {
    "application/vnd.databricks.v1+cell": {
     "cellMetadata": {
      "byteLimit": 2048000,
      "implicitDf": true,
      "rowLimit": 10000
     },
     "inputWidgets": {},
     "nuid": "5f6a8854-ecaf-4ef3-90c4-c01718be405d",
     "showTitle": false,
     "tableResultSettingsMap": {},
     "title": ""
    }
   },
   "outputs": [],
   "source": [
    " %sql\n",
    " CREATE TABLE IF NOT EXISTS trendytechproject.silver.claims (\n",
    " ClaimID string,\n",
    " SRC_ClaimID string,\n",
    " TransactionID string,\n",
    " PatientID string,\n",
    " EncounterID string,\n",
    " ProviderID string,\n",
    " DeptID string,\n",
    " ServiceDate date,\n",
    " ClaimDate date,\n",
    " PayorID string,\n",
    " ClaimAmount string,\n",
    " PaidAmount string,\n",
    " ClaimStatus string,\n",
    " PayorType string,\n",
    " Deductible string,\n",
    " Coinsurance string,\n",
    " Copay string,\n",
    " SRC_InsertDate date,\n",
    " SRC_ModifiedDate date,\n",
    " datasource string,\n",
    " is_quarantined boolean,\n",
    " audit_insertdate timestamp,\n",
    " audit_modifieddate timestamp,\n",
    " is_current boolean\n",
    " )\n",
    " USING DELTA;"
   ]
  },
  {
   "cell_type": "code",
   "execution_count": 0,
   "metadata": {
    "application/vnd.databricks.v1+cell": {
     "cellMetadata": {
      "byteLimit": 2048000,
      "implicitDf": true,
      "rowLimit": 10000
     },
     "inputWidgets": {},
     "nuid": "fa9fe866-cc1c-4397-9831-fac959d17a8f",
     "showTitle": false,
     "tableResultSettingsMap": {},
     "title": ""
    }
   },
   "outputs": [],
   "source": [
    " %sql\n",
    " --#Update old record to implement SCD Type 2\n",
    " MERGE INTO trendytechproject.silver.claims AS target\n",
    " USING quality_checks AS source\n",
    " ON target.ClaimID = source.ClaimID AND target.is_current = true\n",
    " WHEN MATCHED AND (\n",
    "     target.SRC_ClaimID != source.SRC_ClaimID OR\n",
    "     target.TransactionID != source.TransactionID OR\n",
    "     target.PatientID != source.PatientID OR\n",
    "     target.EncounterID != source.EncounterID OR\n",
    "     target.ProviderID != source.ProviderID OR\n",
    "     target.DeptID != source.DeptID OR\n",
    "     target.ServiceDate != source.ServiceDate OR\n",
    "     target.ClaimDate != source.ClaimDate OR\n",
    "     target.PayorID != source.PayorID OR\n",
    "     target.ClaimAmount != source.ClaimAmount OR\n",
    "     target.PaidAmount != source.PaidAmount OR\n",
    "     target.ClaimStatus != source.ClaimStatus OR\n",
    "     target.PayorType != source.PayorType OR\n",
    "     target.Deductible != source.Deductible OR\n",
    "     target.Coinsurance != source.Coinsurance OR\n",
    "     target.Copay != source.Copay OR\n",
    "     target.SRC_InsertDate != source.SRC_InsertDate OR\n",
    "     target.SRC_ModifiedDate != source.SRC_ModifiedDate OR\n",
    "     target.datasource != source.datasource OR\n",
    "     target.is_quarantined != source.is_quarantined\n",
    " ) THEN\n",
    "   UPDATE SET\n",
    "     target.is_current = false,\n",
    "     target.audit_modifieddate = current_timestamp();\n",
    "\n",
    "\n",
    "\n",
    "\n",
    " \n",
    "MERGE INTO trendytechproject.silver.claims AS target\n",
    "USING quality_checks AS source\n",
    "ON target.ClaimID = source.ClaimID AND target.is_current = true\n",
    "WHEN NOT MATCHED THEN\n",
    "  INSERT (ClaimID, SRC_ClaimID, TransactionID, PatientID, EncounterID, ProviderID, DeptID, ServiceDate, ClaimDate, PayorID, ClaimAmount, PaidAmount, ClaimStatus, PayorType, Deductible, Coinsurance, Copay, SRC_InsertDate, SRC_ModifiedDate, datasource, is_quarantined, audit_insertdate, audit_modifieddate, is_current)\n",
    "  VALUES (source.ClaimID, source.SRC_ClaimID, source.TransactionID, source.PatientID, source.EncounterID, source.ProviderID, source.DeptID, source.ServiceDate, source.ClaimDate, source.PayorID, source.ClaimAmount, source.PaidAmount, source.ClaimStatus, source.PayorType, source.Deductible, source.Coinsurance, source.Copay, source.SRC_InsertDate, source.SRC_ModifiedDate, source.datasource, source.is_quarantined, current_timestamp(), current_timestamp(), true);\n"
   ]
  },
  {
   "cell_type": "code",
   "execution_count": 0,
   "metadata": {
    "application/vnd.databricks.v1+cell": {
     "cellMetadata": {
      "byteLimit": 2048000,
      "implicitDf": true,
      "rowLimit": 10000
     },
     "inputWidgets": {},
     "nuid": "7b8aa8cc-cf0f-498e-81af-497a3ea57673",
     "showTitle": false,
     "tableResultSettingsMap": {},
     "title": ""
    }
   },
   "outputs": [],
   "source": [
    " %sql\n",
    " select * from  trendytechproject.silver.claims"
   ]
  },
  {
   "cell_type": "code",
   "execution_count": 0,
   "metadata": {
    "application/vnd.databricks.v1+cell": {
     "cellMetadata": {
      "byteLimit": 2048000,
      "rowLimit": 10000
     },
     "inputWidgets": {},
     "nuid": "12e8fa0d-821f-4258-b175-98188cbe6d36",
     "showTitle": false,
     "tableResultSettingsMap": {},
     "title": ""
    }
   },
   "outputs": [],
   "source": [
    "silver_claims = spark.sql(\"SELECT * FROM trendytechproject.silver.claims\")\n",
    "\n"
   ]
  },
  {
   "cell_type": "code",
   "execution_count": 0,
   "metadata": {
    "application/vnd.databricks.v1+cell": {
     "cellMetadata": {
      "byteLimit": 2048000,
      "rowLimit": 10000
     },
     "inputWidgets": {},
     "nuid": "a83aaeb6-6e92-47d2-99c9-a84d2090d71c",
     "showTitle": false,
     "tableResultSettingsMap": {},
     "title": ""
    }
   },
   "outputs": [],
   "source": [
    "silver_claims.write.format(\"delta\").mode(\"append\").save(\"/mnt/silver/claims/\")\n",
    "\n"
   ]
  },
  {
   "cell_type": "code",
   "execution_count": 0,
   "metadata": {
    "application/vnd.databricks.v1+cell": {
     "cellMetadata": {
      "byteLimit": 2048000,
      "rowLimit": 10000
     },
     "inputWidgets": {},
     "nuid": "aa4599a9-cd74-4a73-ac0d-818a097e0e1a",
     "showTitle": false,
     "tableResultSettingsMap": {},
     "title": ""
    }
   },
   "outputs": [],
   "source": [
    "dbutils.fs.ls(\"/mnt/silver/claims/\")\n"
   ]
  }
 ],
 "metadata": {
  "application/vnd.databricks.v1+notebook": {
   "computePreferences": null,
   "dashboards": [],
   "environmentMetadata": {
    "base_environment": "",
    "client": "1"
   },
   "language": "python",
   "notebookMetadata": {
    "mostRecentlyExecutedCommandWithImplicitDF": {
     "commandId": 4912515131955018,
     "dataframes": [
      "_sqldf"
     ]
    },
    "pythonIndentUnit": 4
   },
   "notebookName": "Claims",
   "widgets": {}
  },
  "language_info": {
   "name": "python"
  }
 },
 "nbformat": 4,
 "nbformat_minor": 0
}
