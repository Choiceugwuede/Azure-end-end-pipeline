{
 "cells": [
  {
   "cell_type": "code",
   "execution_count": 0,
   "metadata": {
    "application/vnd.databricks.v1+cell": {
     "cellMetadata": {
      "byteLimit": 2048000,
      "implicitDf": true,
      "rowLimit": 10000
     },
     "inputWidgets": {},
     "nuid": "21295416-39c1-4c50-b3af-d789336174d0",
     "showTitle": false,
     "tableResultSettingsMap": {},
     "title": ""
    }
   },
   "outputs": [],
   "source": [
    "%sql\n",
    "-- Create table if not exists for encounters\n",
    "CREATE TABLE IF NOT EXISTS trendytechproject.gold.dim_encounter (\n",
    "    EncounterID          STRING,\n",
    "    SRC_EncounterID      STRING,\n",
    "    EncounterDate        DATE,\n",
    "    EncounterType        STRING,\n",
    "    datasource           STRING\n",
    ")\n",
    "USING DELTA;\n"
   ]
  },
  {
   "cell_type": "code",
   "execution_count": 0,
   "metadata": {
    "application/vnd.databricks.v1+cell": {
     "cellMetadata": {
      "byteLimit": 2048000,
      "implicitDf": true,
      "rowLimit": 10000
     },
     "inputWidgets": {},
     "nuid": "cd2fd4bf-f7ce-43c8-ad8c-e85b9eb892d2",
     "showTitle": false,
     "tableResultSettingsMap": {},
     "title": ""
    }
   },
   "outputs": [],
   "source": [
    "%sql\n",
    "TRUNCATE TABLE trendytechproject.gold.dim_encounter;\n"
   ]
  },
  {
   "cell_type": "code",
   "execution_count": 0,
   "metadata": {
    "application/vnd.databricks.v1+cell": {
     "cellMetadata": {
      "byteLimit": 2048000,
      "implicitDf": true,
      "rowLimit": 10000
     },
     "inputWidgets": {},
     "nuid": "02f656f3-46e0-44ae-b307-d46108de6fa5",
     "showTitle": false,
     "tableResultSettingsMap": {},
     "title": ""
    }
   },
   "outputs": [],
   "source": [
    "%sql\n",
    "INSERT INTO trendytechproject.gold.dim_encounter\n",
    "SELECT\n",
    "EncounterID,          \n",
    "    SRC_EncounterID ,                \n",
    "    EncounterDate,        \n",
    "    EncounterType,            \n",
    "    datasource           \n",
    "FROM trendytechproject.silver.encounters\n",
    "WHERE is_current = true AND is_quarantined = false;\n"
   ]
  },
  {
   "cell_type": "code",
   "execution_count": 0,
   "metadata": {
    "application/vnd.databricks.v1+cell": {
     "cellMetadata": {
      "byteLimit": 2048000,
      "implicitDf": true,
      "rowLimit": 10000
     },
     "inputWidgets": {},
     "nuid": "f986acdf-f33a-41f8-b6f2-3b754f94231b",
     "showTitle": false,
     "tableResultSettingsMap": {},
     "title": ""
    }
   },
   "outputs": [],
   "source": [
    "%sql\n",
    "-- Select all columns from the gold.encounter table\n",
    "SELECT * \n",
    "FROM trendytechproject.gold.dim_encounter;\n"
   ]
  },
  {
   "cell_type": "code",
   "execution_count": 0,
   "metadata": {
    "application/vnd.databricks.v1+cell": {
     "cellMetadata": {
      "byteLimit": 2048000,
      "rowLimit": 10000
     },
     "inputWidgets": {},
     "nuid": "a38716f7-a4ba-48aa-be98-9a90b8725ef9",
     "showTitle": false,
     "tableResultSettingsMap": {},
     "title": ""
    }
   },
   "outputs": [],
   "source": [
    "gold_dim_encounter = spark.sql(\"SELECT * FROM trendytechproject.gold.dim_encounter\")\n",
    "gold_dim_encounter.write.format(\"delta\").mode(\"overwrite\").save(\"/mnt/gold/dim_encounter/\")\n",
    "dbutils.fs.ls(\"/mnt/gold/dim_encounter/\")\n"
   ]
  }
 ],
 "metadata": {
  "application/vnd.databricks.v1+notebook": {
   "computePreferences": null,
   "dashboards": [],
   "environmentMetadata": {
    "base_environment": "",
    "client": "1"
   },
   "language": "python",
   "notebookMetadata": {
    "mostRecentlyExecutedCommandWithImplicitDF": {
     "commandId": 5406804679054150,
     "dataframes": [
      "_sqldf"
     ]
    },
    "pythonIndentUnit": 4
   },
   "notebookName": "dim_encounter",
   "widgets": {}
  },
  "language_info": {
   "name": "python"
  }
 },
 "nbformat": 4,
 "nbformat_minor": 0
}
