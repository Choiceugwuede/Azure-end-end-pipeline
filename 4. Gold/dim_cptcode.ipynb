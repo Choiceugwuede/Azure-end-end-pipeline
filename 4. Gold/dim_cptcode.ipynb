{
 "cells": [
  {
   "cell_type": "code",
   "execution_count": 0,
   "metadata": {
    "application/vnd.databricks.v1+cell": {
     "cellMetadata": {
      "byteLimit": 2048000,
      "implicitDf": true,
      "rowLimit": 10000
     },
     "inputWidgets": {},
     "nuid": "27a57422-54bf-4d6c-9ae0-1dad15f96c98",
     "showTitle": false,
     "tableResultSettingsMap": {},
     "title": ""
    }
   },
   "outputs": [],
   "source": [
    "%sql\n",
    "CREATE TABLE IF NOT EXISTS trendytechproject.gold.dim_cpt_code (\n",
    "    cpt_codes                    STRING,\n",
    "    procedure_code_category       STRING,\n",
    "    procedure_code_descriptions   STRING,\n",
    "    code_status                  STRING,\n",
    "    refreshed_at                 TIMESTAMP\n",
    ")\n"
   ]
  },
  {
   "cell_type": "code",
   "execution_count": 0,
   "metadata": {
    "application/vnd.databricks.v1+cell": {
     "cellMetadata": {
      "byteLimit": 2048000,
      "implicitDf": true,
      "rowLimit": 10000
     },
     "inputWidgets": {},
     "nuid": "0e068f3b-fe4a-48dc-be99-31ad989581e5",
     "showTitle": false,
     "tableResultSettingsMap": {},
     "title": ""
    }
   },
   "outputs": [],
   "source": [
    "%sql\n",
    "TRUNCATE TABLE trendytechproject.gold.dim_cpt_code\n"
   ]
  },
  {
   "cell_type": "code",
   "execution_count": 0,
   "metadata": {
    "application/vnd.databricks.v1+cell": {
     "cellMetadata": {
      "byteLimit": 2048000,
      "implicitDf": true,
      "rowLimit": 10000
     },
     "inputWidgets": {},
     "nuid": "99811659-688d-4b4d-973e-beb5c1a1fd92",
     "showTitle": false,
     "tableResultSettingsMap": {},
     "title": ""
    }
   },
   "outputs": [],
   "source": [
    "%sql\n",
    "INSERT INTO trendytechproject.gold.dim_cpt_code\n",
    "SELECT \n",
    "    cpt_codes,\n",
    "    procedure_code_category,\n",
    "    procedure_code_descriptions,\n",
    "    code_status,\n",
    "    current_timestamp() AS refreshed_at\n",
    "FROM trendytechproject.silver.cptcodes\n",
    "WHERE is_quarantined = false \n",
    "    AND is_current = true\n"
   ]
  },
  {
   "cell_type": "code",
   "execution_count": 0,
   "metadata": {
    "application/vnd.databricks.v1+cell": {
     "cellMetadata": {
      "byteLimit": 2048000,
      "implicitDf": true,
      "rowLimit": 10000
     },
     "inputWidgets": {},
     "nuid": "93df01d6-95b0-457e-8fa1-96f82fcf81b1",
     "showTitle": false,
     "tableResultSettingsMap": {},
     "title": ""
    }
   },
   "outputs": [],
   "source": [
    "%sql\n",
    "SELECT * \n",
    "FROM trendytechproject.gold.dim_cpt_code\n"
   ]
  },
  {
   "cell_type": "code",
   "execution_count": 0,
   "metadata": {
    "application/vnd.databricks.v1+cell": {
     "cellMetadata": {
      "byteLimit": 2048000,
      "rowLimit": 10000
     },
     "inputWidgets": {},
     "nuid": "7aa5d3e5-7d36-4fc9-b0e5-a3d7efee8cb5",
     "showTitle": false,
     "tableResultSettingsMap": {},
     "title": ""
    }
   },
   "outputs": [],
   "source": [
    "gold_dim_cpt_code = spark.sql(\"SELECT * FROM trendytechproject.gold.dim_cpt_code\")\n",
    "gold_dim_cpt_code.write.format(\"delta\").mode(\"overwrite\").save(\"/mnt/gold/dim_cpt_code/\")\n",
    "dbutils.fs.ls(\"/mnt/gold/dim_cpt_code/\")\n"
   ]
  }
 ],
 "metadata": {
  "application/vnd.databricks.v1+notebook": {
   "computePreferences": null,
   "dashboards": [],
   "environmentMetadata": {
    "base_environment": "",
    "client": "1"
   },
   "language": "python",
   "notebookMetadata": {
    "mostRecentlyExecutedCommandWithImplicitDF": {
     "commandId": 6910790021313053,
     "dataframes": [
      "_sqldf"
     ]
    },
    "pythonIndentUnit": 4
   },
   "notebookName": "dim_cptcode",
   "widgets": {}
  },
  "language_info": {
   "name": "python"
  }
 },
 "nbformat": 4,
 "nbformat_minor": 0
}
