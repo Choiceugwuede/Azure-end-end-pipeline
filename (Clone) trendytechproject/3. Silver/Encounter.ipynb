{
 "cells": [
  {
   "cell_type": "code",
   "execution_count": 0,
   "metadata": {
    "application/vnd.databricks.v1+cell": {
     "cellMetadata": {
      "byteLimit": 2048000,
      "implicitDf": true,
      "rowLimit": 10000
     },
     "inputWidgets": {},
     "nuid": "1e5099af-d20f-4139-a052-e658873c1a14",
     "showTitle": false,
     "tableResultSettingsMap": {},
     "title": ""
    }
   },
   "outputs": [],
   "source": [
    "%sql\n",
    "----- Create temporary views for the parquet files\n",
    "CREATE OR REPLACE TEMP VIEW hosa_encounters\n",
    "USING parquet\n",
    "OPTIONS (\n",
    "    path \"dbfs:/mnt/bronze/hosa/encounters\"\n",
    ");\n",
    "CREATE OR REPLACE TEMP VIEW hosb_encounters\n",
    " USING parquet\n",
    " OPTIONS (\n",
    "   path \"dbfs:/mnt/bronze/hosb/encounters\"\n",
    " );\n"
   ]
  },
  {
   "cell_type": "code",
   "execution_count": 0,
   "metadata": {
    "application/vnd.databricks.v1+cell": {
     "cellMetadata": {
      "byteLimit": 2048000,
      "implicitDf": true,
      "rowLimit": 10000
     },
     "inputWidgets": {},
     "nuid": "f0b04557-6124-47f2-a2cc-d6e402b95afa",
     "showTitle": false,
     "tableResultSettingsMap": {},
     "title": ""
    }
   },
   "outputs": [],
   "source": [
    "%sql\n",
    "\n",
    "-- Union the two views\n",
    "CREATE OR REPLACE TEMP VIEW encounters AS\n",
    "SELECT * FROM hosa_encounters\n",
    "UNION ALL\n",
    "SELECT * FROM hosb_encounters;\n",
    "\n",
    "-- Display the merged data\n",
    "SELECT * FROM encounters;\n"
   ]
  },
  {
   "cell_type": "code",
   "execution_count": 0,
   "metadata": {
    "application/vnd.databricks.v1+cell": {
     "cellMetadata": {
      "byteLimit": 2048000,
      "implicitDf": true,
      "rowLimit": 10000
     },
     "inputWidgets": {},
     "nuid": "2b0303eb-cdb9-4ac4-a1e0-4a28a2ee0e7b",
     "showTitle": false,
     "tableResultSettingsMap": {},
     "title": ""
    }
   },
   "outputs": [],
   "source": [
    "%sql\n",
    "-- Create temporary view for quality checks\n",
    "CREATE OR REPLACE TEMP VIEW quality_checks AS\n",
    "SELECT \n",
    "    concat(EncounterID, '-', datasource) AS EncounterID,\n",
    "    EncounterID AS SRC_EncounterID,\n",
    "    PatientID,\n",
    "    EncounterDate,\n",
    "    EncounterType,\n",
    "    ProviderID,\n",
    "    DepartmentID,\n",
    "    ProcedureCode,\n",
    "    InsertedDate AS SRC_InsertedDate,\n",
    "    ModifiedDate AS SRC_ModifiedDate,\n",
    "    datasource,\n",
    "    CASE \n",
    "        WHEN EncounterID IS NULL OR PatientID IS NULL THEN TRUE\n",
    "        ELSE FALSE\n",
    "    END AS is_quarantined\n",
    "FROM encounters;\n"
   ]
  },
  {
   "cell_type": "code",
   "execution_count": 0,
   "metadata": {
    "application/vnd.databricks.v1+cell": {
     "cellMetadata": {
      "byteLimit": 2048000,
      "implicitDf": true,
      "rowLimit": 10000
     },
     "inputWidgets": {},
     "nuid": "82cec127-ef53-480e-aa14-51b4f00d8ef9",
     "showTitle": false,
     "tableResultSettingsMap": {},
     "title": ""
    }
   },
   "outputs": [],
   "source": [
    "%sql\n",
    "-- Select data from quality_checks where datasource is 'hos-b'\n",
    "SELECT * \n",
    "FROM quality_checks\n",
    "WHERE datasource = 'hos-b';\n"
   ]
  },
  {
   "cell_type": "code",
   "execution_count": 0,
   "metadata": {
    "application/vnd.databricks.v1+cell": {
     "cellMetadata": {
      "byteLimit": 2048000,
      "implicitDf": true,
      "rowLimit": 10000
     },
     "inputWidgets": {},
     "nuid": "eb61803e-0c7e-468a-abaf-118643469647",
     "showTitle": false,
     "tableResultSettingsMap": {},
     "title": ""
    }
   },
   "outputs": [],
   "source": [
    "%sql\n",
    "-- Create table if not exists for encounters\n",
    "CREATE TABLE IF NOT EXISTS trendytechproject.silver.encounters (\n",
    "    EncounterID          STRING,\n",
    "    SRC_EncounterID      STRING,\n",
    "    PatientID            STRING,\n",
    "    EncounterDate        DATE,\n",
    "    EncounterType        STRING,\n",
    "    ProviderID           STRING,\n",
    "    DepartmentID         STRING,\n",
    "    ProcedureCode        INT,\n",
    "    SRC_InsertedDate     DATE,\n",
    "    SRC_ModifiedDate     DATE,\n",
    "    datasource           STRING,\n",
    "    is_quarantined       BOOLEAN,\n",
    "    audit_insertdate     TIMESTAMP,\n",
    "    audit_modifieddate   TIMESTAMP,\n",
    "    is_current           BOOLEAN\n",
    ")\n",
    "USING DELTA;\n"
   ]
  },
  {
   "cell_type": "code",
   "execution_count": 0,
   "metadata": {
    "application/vnd.databricks.v1+cell": {
     "cellMetadata": {
      "byteLimit": 2048000,
      "implicitDf": true,
      "rowLimit": 10000
     },
     "inputWidgets": {},
     "nuid": "9bd432db-cf90-4bf2-99a2-b6526aa8bae7",
     "showTitle": false,
     "tableResultSettingsMap": {},
     "title": ""
    }
   },
   "outputs": [],
   "source": [
    "%sql\n",
    "-- Update old record to implement SCD Type 2\n",
    "MERGE INTO trendytechproject.silver.encounters AS target\n",
    "USING quality_checks AS source\n",
    "ON target.EncounterID = source.EncounterID AND target.is_current = true\n",
    "WHEN MATCHED AND (\n",
    "    target.SRC_EncounterID != source.SRC_EncounterID OR\n",
    "    target.PatientID != source.PatientID OR\n",
    "    target.EncounterDate != source.EncounterDate OR\n",
    "    target.EncounterType != source.EncounterType OR\n",
    "    target.ProviderID != source.ProviderID OR\n",
    "    target.DepartmentID != source.DepartmentID OR\n",
    "    target.ProcedureCode != source.ProcedureCode OR\n",
    "    target.SRC_InsertedDate != source.SRC_InsertedDate OR\n",
    "    target.SRC_ModifiedDate != source.SRC_ModifiedDate OR\n",
    "    target.datasource != source.datasource OR\n",
    "    target.is_quarantined != source.is_quarantined\n",
    ")\n",
    "THEN\n",
    "    UPDATE SET\n",
    "        target.is_current = false,\n",
    "        target.audit_modifieddate = current_timestamp();\n"
   ]
  },
  {
   "cell_type": "code",
   "execution_count": 0,
   "metadata": {
    "application/vnd.databricks.v1+cell": {
     "cellMetadata": {
      "byteLimit": 2048000,
      "implicitDf": true,
      "rowLimit": 10000
     },
     "inputWidgets": {},
     "nuid": "3ce82a47-db51-4a18-af25-cef8304b5bb8",
     "showTitle": false,
     "tableResultSettingsMap": {},
     "title": ""
    }
   },
   "outputs": [],
   "source": [
    "%sql\n",
    "-- Insert new record to implement SCD Type 2\n",
    "MERGE INTO trendytechproject.silver.encounters AS target\n",
    "USING quality_checks AS source\n",
    "ON target.EncounterID = source.EncounterID\n",
    "    AND target.is_current = true\n",
    "WHEN NOT MATCHED THEN\n",
    "    INSERT (\n",
    "        EncounterID,\n",
    "        SRC_EncounterID,\n",
    "        PatientID,\n",
    "        EncounterDate,\n",
    "        EncounterType,\n",
    "        ProviderID,\n",
    "        DepartmentID,\n",
    "        ProcedureCode,\n",
    "        SRC_InsertedDate,\n",
    "        SRC_ModifiedDate,\n",
    "        datasource,\n",
    "        is_quarantined,\n",
    "        audit_insertdate,\n",
    "        audit_modifieddate,\n",
    "        is_current\n",
    "    )\n",
    "    VALUES (\n",
    "        source.EncounterID,\n",
    "        source.SRC_EncounterID,\n",
    "        source.PatientID,\n",
    "        source.EncounterDate,\n",
    "        source.EncounterType,\n",
    "        source.ProviderID,\n",
    "        source.DepartmentID,\n",
    "        source.ProcedureCode,\n",
    "        source.SRC_InsertedDate,\n",
    "        source.SRC_ModifiedDate,\n",
    "        source.datasource,\n",
    "        source.is_quarantined,\n",
    "        current_timestamp(),\n",
    "        current_timestamp(),\n",
    "        true\n",
    "    );\n"
   ]
  },
  {
   "cell_type": "code",
   "execution_count": 0,
   "metadata": {
    "application/vnd.databricks.v1+cell": {
     "cellMetadata": {
      "byteLimit": 2048000,
      "implicitDf": true,
      "rowLimit": 10000
     },
     "inputWidgets": {},
     "nuid": "e7679852-1685-47d6-95c9-edae077138b9",
     "showTitle": false,
     "tableResultSettingsMap": {},
     "title": ""
    }
   },
   "outputs": [],
   "source": [
    "%sql\n",
    "-- Select SRC_EncounterID, datasource, and count of PatientID\n",
    "SELECT SRC_EncounterID, datasource, COUNT(PatientID)\n",
    "FROM trendytechproject.silver.encounters\n",
    "GROUP BY SRC_EncounterID, datasource\n",
    "ORDER BY 3 DESC;\n"
   ]
  },
  {
   "cell_type": "code",
   "execution_count": 0,
   "metadata": {
    "application/vnd.databricks.v1+cell": {
     "cellMetadata": {
      "byteLimit": 2048000,
      "rowLimit": 10000
     },
     "inputWidgets": {},
     "nuid": "1a4a60a6-5a68-4d91-a7c3-4f09c1627ff6",
     "showTitle": false,
     "tableResultSettingsMap": {},
     "title": ""
    }
   },
   "outputs": [],
   "source": [
    "silver_encounters = spark.sql(\"SELECT * FROM trendytechproject.silver.encounters\")\n",
    "silver_encounters.write.format(\"delta\").mode(\"append\").save(\"/mnt/silver/encounters/\")\n",
    "dbutils.fs.ls(\"/mnt/silver/encounters/\")\n"
   ]
  },
  {
   "cell_type": "markdown",
   "metadata": {
    "application/vnd.databricks.v1+cell": {
     "cellMetadata": {},
     "inputWidgets": {},
     "nuid": "9d5e3054-fa62-4048-9613-1b2ed58e80b5",
     "showTitle": false,
     "tableResultSettingsMap": {},
     "title": ""
    }
   },
   "source": []
  }
 ],
 "metadata": {
  "application/vnd.databricks.v1+notebook": {
   "computePreferences": null,
   "dashboards": [],
   "environmentMetadata": {
    "base_environment": "",
    "client": "1"
   },
   "language": "python",
   "notebookMetadata": {
    "mostRecentlyExecutedCommandWithImplicitDF": {
     "commandId": 5406804679054142,
     "dataframes": [
      "_sqldf"
     ]
    },
    "pythonIndentUnit": 4
   },
   "notebookName": "Encounter",
   "widgets": {}
  },
  "language_info": {
   "name": "python"
  }
 },
 "nbformat": 4,
 "nbformat_minor": 0
}
