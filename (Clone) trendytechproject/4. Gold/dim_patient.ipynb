{
 "cells": [
  {
   "cell_type": "code",
   "execution_count": 0,
   "metadata": {
    "application/vnd.databricks.v1+cell": {
     "cellMetadata": {
      "byteLimit": 2048000,
      "implicitDf": true,
      "rowLimit": 10000
     },
     "inputWidgets": {},
     "nuid": "2c9a142c-41db-4def-bb76-7b2da2853020",
     "showTitle": false,
     "tableResultSettingsMap": {},
     "title": ""
    }
   },
   "outputs": [],
   "source": [
    "%sql\n",
    "CREATE TABLE IF NOT EXISTS trendytechproject.gold.dim_patient (\n",
    "    patient_key     STRING,\n",
    "    src_patientid   STRING,\n",
    "    firstname       STRING,\n",
    "    lastname        STRING,\n",
    "    middlename      STRING,\n",
    "    ssn             STRING,\n",
    "    phonenumber     STRING,\n",
    "    gender          STRING,\n",
    "    dob             DATE,\n",
    "    address         STRING,\n",
    "    datasource      STRING\n",
    ");\n"
   ]
  },
  {
   "cell_type": "code",
   "execution_count": 0,
   "metadata": {
    "application/vnd.databricks.v1+cell": {
     "cellMetadata": {
      "byteLimit": 2048000,
      "implicitDf": true,
      "rowLimit": 10000
     },
     "inputWidgets": {},
     "nuid": "6481155d-16d6-498d-8a92-e5ae30a3c25a",
     "showTitle": false,
     "tableResultSettingsMap": {},
     "title": ""
    }
   },
   "outputs": [],
   "source": [
    "%sql\n",
    "TRUNCATE TABLE trendytechproject.gold.dim_patient;\n"
   ]
  },
  {
   "cell_type": "code",
   "execution_count": 0,
   "metadata": {
    "application/vnd.databricks.v1+cell": {
     "cellMetadata": {
      "byteLimit": 2048000,
      "implicitDf": true,
      "rowLimit": 10000
     },
     "inputWidgets": {},
     "nuid": "8f34922d-bd11-4cd6-990c-bf97fd870000",
     "showTitle": false,
     "tableResultSettingsMap": {},
     "title": ""
    }
   },
   "outputs": [],
   "source": [
    "%sql\n",
    "INSERT INTO trendytechproject.gold.dim_patient\n",
    "SELECT \n",
    "    patient_key,\n",
    "    src_patientid,\n",
    "    firstname,\n",
    "    lastname,\n",
    "    middlename,\n",
    "    ssn,\n",
    "    phonenumber,\n",
    "    gender,\n",
    "    dob,\n",
    "    address,\n",
    "    datasource\n",
    "FROM trendytechproject.silver.patients\n",
    "WHERE is_current = true AND is_quarantined = false;\n"
   ]
  },
  {
   "cell_type": "code",
   "execution_count": 0,
   "metadata": {
    "application/vnd.databricks.v1+cell": {
     "cellMetadata": {
      "byteLimit": 2048000,
      "rowLimit": 10000
     },
     "inputWidgets": {},
     "nuid": "4b106ca8-211f-4337-85b5-ef57dc6566ef",
     "showTitle": false,
     "tableResultSettingsMap": {},
     "title": ""
    }
   },
   "outputs": [],
   "source": [
    "gold_dim_patient = spark.sql(\"SELECT * FROM trendytechproject.gold.dim_patient\")\n",
    "gold_dim_patient.write.format(\"delta\").mode(\"overwrite\").save(\"/mnt/gold/dim_patient/\")\n",
    "dbutils.fs.ls(\"/mnt/gold/dim_patient/\")\n"
   ]
  }
 ],
 "metadata": {
  "application/vnd.databricks.v1+notebook": {
   "computePreferences": null,
   "dashboards": [],
   "environmentMetadata": {
    "base_environment": "",
    "client": "1"
   },
   "language": "python",
   "notebookMetadata": {
    "mostRecentlyExecutedCommandWithImplicitDF": {
     "commandId": 4912515131955047,
     "dataframes": [
      "_sqldf"
     ]
    },
    "pythonIndentUnit": 4
   },
   "notebookName": "dim_patient",
   "widgets": {}
  },
  "language_info": {
   "name": "python"
  }
 },
 "nbformat": 4,
 "nbformat_minor": 0
}
