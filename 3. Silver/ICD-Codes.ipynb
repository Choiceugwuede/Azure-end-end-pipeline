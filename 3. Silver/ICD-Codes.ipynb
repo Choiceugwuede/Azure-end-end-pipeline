{
 "cells": [
  {
   "cell_type": "code",
   "execution_count": 0,
   "metadata": {
    "application/vnd.databricks.v1+cell": {
     "cellMetadata": {
      "byteLimit": 2048000,
      "rowLimit": 10000
     },
     "inputWidgets": {},
     "nuid": "989f300e-8534-4c48-9e4f-591fb8c01b12",
     "showTitle": false,
     "tableResultSettingsMap": {},
     "title": ""
    }
   },
   "outputs": [],
   "source": [
    "#Read ICD extracts from bronze layer\n",
    "df=spark.read.format(\"parquet\").load(\"/mnt/bronze/icd_codes/\")\n",
    "\n",
    "df.createOrReplaceTempView(\"staging_icd_codes\")"
   ]
  },
  {
   "cell_type": "code",
   "execution_count": 0,
   "metadata": {
    "application/vnd.databricks.v1+cell": {
     "cellMetadata": {
      "byteLimit": 2048000,
      "implicitDf": true,
      "rowLimit": 10000
     },
     "inputWidgets": {},
     "nuid": "0d80c7b9-ebe0-460f-8365-e74c9a4b9011",
     "showTitle": false,
     "tableResultSettingsMap": {},
     "title": ""
    }
   },
   "outputs": [],
   "source": [
    "\n",
    "%sql\n",
    "CREATE TABLE IF NOT EXISTS trendytechproject.silver.icd_codes (\n",
    "    icd_code STRING,\n",
    "    icd_code_type STRING,\n",
    "    code_description STRING,\n",
    "    inserted_date DATE,\n",
    "    updated_date DATE,\n",
    "    is_current_flag BOOLEAN\n",
    ")"
   ]
  },
  {
   "cell_type": "code",
   "execution_count": 0,
   "metadata": {
    "application/vnd.databricks.v1+cell": {
     "cellMetadata": {
      "byteLimit": 2048000,
      "implicitDf": true,
      "rowLimit": 10000
     },
     "inputWidgets": {},
     "nuid": "ca4b5bbb-7789-47d1-a70f-5999f16560fc",
     "showTitle": false,
     "tableResultSettingsMap": {},
     "title": ""
    }
   },
   "outputs": [],
   "source": [
    "%sql\n",
    "MERGE INTO\n",
    "  trendytechproject.silver.icd_codes AS target\n",
    "USING\n",
    "  staging_icd_codes AS source\n",
    "ON target.icd_code = source.icd_code\n",
    "WHEN MATCHED AND\n",
    "  target.code_description != source.code_description\n",
    "  THEN UPDATE SET\n",
    "  target.code_description = source.code_description,\n",
    "  target.updated_date = source.updated_date,\n",
    "  target.is_current_flag = False\n",
    "WHEN NOT MATCHED THEN INSERT (\n",
    "    icd_code, icd_code_type, code_description, inserted_date, updated_date, is_current_flag\n",
    "  )\n",
    "  VALUES (\n",
    "    source.icd_code,\n",
    "    source.icd_code_type,\n",
    "    source.code_description,\n",
    "    source.inserted_date,\n",
    "    source.updated_date,\n",
    "    source.is_current_flag\n",
    "  )\n",
    "     "
   ]
  },
  {
   "cell_type": "code",
   "execution_count": 0,
   "metadata": {
    "application/vnd.databricks.v1+cell": {
     "cellMetadata": {
      "byteLimit": 2048000,
      "rowLimit": 10000
     },
     "inputWidgets": {},
     "nuid": "8e5ffa77-265c-4b79-af67-ebbfb18dc484",
     "showTitle": false,
     "tableResultSettingsMap": {},
     "title": ""
    }
   },
   "outputs": [],
   "source": [
    "silver_icd_codes = spark.sql(\"SELECT * FROM trendytechproject.silver.icd_codes\")\n",
    "silver_icd_codes.write.format(\"delta\").mode(\"append\").save(\"/mnt/silver/icd_codes/\")\n",
    "dbutils.fs.ls(\"/mnt/silver/icd_codes/\")\n"
   ]
  }
 ],
 "metadata": {
  "application/vnd.databricks.v1+notebook": {
   "computePreferences": null,
   "dashboards": [],
   "environmentMetadata": {
    "base_environment": "",
    "client": "1"
   },
   "language": "python",
   "notebookMetadata": {
    "mostRecentlyExecutedCommandWithImplicitDF": {
     "commandId": 4912515131955028,
     "dataframes": [
      "_sqldf"
     ]
    },
    "pythonIndentUnit": 4
   },
   "notebookName": "ICD-Codes",
   "widgets": {}
  },
  "language_info": {
   "name": "python"
  }
 },
 "nbformat": 4,
 "nbformat_minor": 0
}
