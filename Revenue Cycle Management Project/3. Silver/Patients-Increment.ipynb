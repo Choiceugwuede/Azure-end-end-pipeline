{
 "cells": [
  {
   "cell_type": "code",
   "execution_count": 0,
   "metadata": {
    "application/vnd.databricks.v1+cell": {
     "cellMetadata": {
      "byteLimit": 2048000,
      "rowLimit": 10000
     },
     "inputWidgets": {},
     "nuid": "de1f09bb-2eca-41b2-b38a-dda4ddf6fca2",
     "showTitle": false,
     "tableResultSettingsMap": {},
     "title": ""
    }
   },
   "outputs": [],
   "source": [
    "# Databricks notebook source\n",
    "#Reading Hospital A patient data \n",
    "df_hosa=spark.read.parquet(\"/mnt/bronze/hosa/patients\")\n",
    "df_hosa.createOrReplaceTempView(\"patients_hosa\")\n",
    "\n",
    "#Reading Hospital B patient data \n",
    "df_hosb=spark.read.parquet(\"/mnt/bronze/hosb/patients\")\n",
    "df_hosb.createOrReplaceTempView(\"patients_hosb\")\n"
   ]
  },
  {
   "cell_type": "code",
   "execution_count": 0,
   "metadata": {
    "application/vnd.databricks.v1+cell": {
     "cellMetadata": {
      "byteLimit": 2048000,
      "implicitDf": true,
      "rowLimit": 10000
     },
     "inputWidgets": {},
     "nuid": "9351ed33-cf3b-423f-a553-e9005c3233bf",
     "showTitle": false,
     "tableResultSettingsMap": {},
     "title": ""
    }
   },
   "outputs": [],
   "source": [
    " %sql\n",
    " select * from patients_hosa\n"
   ]
  },
  {
   "cell_type": "code",
   "execution_count": 0,
   "metadata": {
    "application/vnd.databricks.v1+cell": {
     "cellMetadata": {
      "byteLimit": 2048000,
      "implicitDf": true,
      "rowLimit": 10000
     },
     "inputWidgets": {},
     "nuid": "3094b2f3-073d-42eb-9003-dd95d91e0244",
     "showTitle": false,
     "tableResultSettingsMap": {},
     "title": ""
    }
   },
   "outputs": [],
   "source": [
    " %sql\n",
    " select * from patients_hosb\n"
   ]
  },
  {
   "cell_type": "code",
   "execution_count": 0,
   "metadata": {
    "application/vnd.databricks.v1+cell": {
     "cellMetadata": {
      "byteLimit": 2048000,
      "implicitDf": true,
      "rowLimit": 10000
     },
     "inputWidgets": {},
     "nuid": "d29850dc-8136-4dac-9e46-23c860476221",
     "showTitle": false,
     "tableResultSettingsMap": {},
     "title": ""
    }
   },
   "outputs": [],
   "source": [
    " %sql\n",
    " CREATE OR REPLACE TEMP VIEW cdm_patients AS\n",
    " SELECT CONCAT(SRC_PatientID,'-', datasource) AS Patient_Key, *\n",
    " FROM (\n",
    "     SELECT \n",
    "     PatientID AS SRC_PatientID ,\n",
    "     FirstName,\n",
    "     LastName,\n",
    "     MiddleName,\n",
    "     SSN,\n",
    "     PhoneNumber,\n",
    "     Gender,\n",
    "     DOB,\n",
    "     Address,\n",
    "     ModifiedDate,\n",
    "     datasource\n",
    "     FROM patients_hosa\n",
    "     UNION ALL\n",
    "     SELECT \n",
    "     ID AS SRC_PatientID,\n",
    "     F_Name AS FirstName,\n",
    "     L_Name AS LastName,\n",
    "     M_Name ASMiddleName,\n",
    "     SSN,\n",
    "     PhoneNumber,\n",
    "     Gender,\n",
    "     DOB,\n",
    "     Address,\n",
    "     Updated_Date AS ModifiedDate,\n",
    "     datasource\n",
    "      FROM patients_hosb\n",
    " )\n"
   ]
  },
  {
   "cell_type": "code",
   "execution_count": 0,
   "metadata": {
    "application/vnd.databricks.v1+cell": {
     "cellMetadata": {
      "byteLimit": 2048000,
      "implicitDf": true,
      "rowLimit": 10000
     },
     "inputWidgets": {},
     "nuid": "42ba04f5-52ee-42d7-9c84-8045143e3a88",
     "showTitle": false,
     "tableResultSettingsMap": {},
     "title": ""
    }
   },
   "outputs": [],
   "source": [
    " %sql\n",
    " select * from cdm_patients"
   ]
  },
  {
   "cell_type": "code",
   "execution_count": 0,
   "metadata": {
    "application/vnd.databricks.v1+cell": {
     "cellMetadata": {
      "byteLimit": 2048000,
      "implicitDf": true,
      "rowLimit": 10000
     },
     "inputWidgets": {},
     "nuid": "c03d6d99-81f9-4417-8ce7-685d8253f3a4",
     "showTitle": false,
     "tableResultSettingsMap": {},
     "title": ""
    }
   },
   "outputs": [],
   "source": [
    " %sql\n",
    " CREATE OR REPLACE TEMP VIEW quality_checks AS\n",
    " SELECT \n",
    "     Patient_Key,\n",
    "     SRC_PatientID,\n",
    "     FirstName,\n",
    "     LastName,\n",
    "     MiddleName,\n",
    "     SSN,\n",
    "     PhoneNumber,\n",
    "     Gender,\n",
    "     DOB,\n",
    "     Address,\n",
    "     ModifiedDate As SRC_ModifiedDate,\n",
    "     datasource,\n",
    "     CASE \n",
    "         WHEN SRC_PatientID IS NULL OR dob IS NULL OR firstname IS NULL or lower(firstname)='null' THEN TRUE\n",
    "         ELSE FALSE\n",
    "     END AS is_quarantined\n",
    " FROM cdm_patients"
   ]
  },
  {
   "cell_type": "code",
   "execution_count": 0,
   "metadata": {
    "application/vnd.databricks.v1+cell": {
     "cellMetadata": {
      "byteLimit": 2048000,
      "implicitDf": true,
      "rowLimit": 10000
     },
     "inputWidgets": {},
     "nuid": "29813aef-420f-4304-9e2f-c5695b31868e",
     "showTitle": false,
     "tableResultSettingsMap": {},
     "title": ""
    }
   },
   "outputs": [],
   "source": [
    " %sql\n",
    " select * from quality_checks\n",
    " order by is_quarantined desc"
   ]
  },
  {
   "cell_type": "code",
   "execution_count": 0,
   "metadata": {
    "application/vnd.databricks.v1+cell": {
     "cellMetadata": {
      "byteLimit": 2048000,
      "implicitDf": true,
      "rowLimit": 10000
     },
     "inputWidgets": {},
     "nuid": "0c073aa8-d348-452f-9e1d-13b30aec132d",
     "showTitle": false,
     "tableResultSettingsMap": {},
     "title": ""
    }
   },
   "outputs": [],
   "source": [
    " %sql\n",
    " CREATE TABLE IF NOT EXISTS trendytechproject.silver.patients (\n",
    "     Patient_Key STRING,\n",
    "     SRC_PatientID STRING,\n",
    "     FirstName STRING,\n",
    "     LastName STRING,\n",
    "     MiddleName STRING,\n",
    "     SSN STRING,\n",
    "     PhoneNumber STRING,\n",
    "     Gender STRING,\n",
    "     DOB DATE,\n",
    "     Address STRING,\n",
    "     SRC_ModifiedDate TIMESTAMP,\n",
    "     datasource STRING,\n",
    "     is_quarantined BOOLEAN,\n",
    "     inserted_date TIMESTAMP,\n",
    "     modified_date TIMESTAMP,\n",
    "     is_current BOOLEAN\n",
    " )\n",
    " USING DELTA;"
   ]
  },
  {
   "cell_type": "code",
   "execution_count": 0,
   "metadata": {
    "application/vnd.databricks.v1+cell": {
     "cellMetadata": {
      "byteLimit": 2048000,
      "implicitDf": true,
      "rowLimit": 10000
     },
     "inputWidgets": {},
     "nuid": "b03a75fe-1a8b-4be0-b99e-a3a56c88cc4c",
     "showTitle": false,
     "tableResultSettingsMap": {},
     "title": ""
    }
   },
   "outputs": [],
   "source": [
    " %sql\n",
    " -- Step 1: Mark existing records as historical (is_current = false) for patients that will be updated\n",
    " MERGE INTO trendytechproject.silver.patients AS target\n",
    " USING quality_checks AS source\n",
    " ON target.Patient_Key = source.Patient_Key\n",
    " AND target.is_current = true \n",
    " WHEN MATCHED\n",
    " AND (\n",
    "     target.SRC_PatientID <> source.SRC_PatientID OR\n",
    "     target.FirstName <> source.FirstName OR\n",
    "     target.LastName <> source.LastName OR\n",
    "     target.MiddleName <> source.MiddleName OR\n",
    "     target.SSN <> source.SSN OR\n",
    "     target.PhoneNumber <> source.PhoneNumber OR\n",
    "     target.Gender <> source.Gender OR\n",
    "     target.DOB <> source.DOB OR\n",
    "     target.Address <> source.Address OR\n",
    "     target.SRC_ModifiedDate <> source.SRC_ModifiedDate OR\n",
    "     target.datasource <> source.datasource OR\n",
    "     target.is_quarantined <> source.is_quarantined\n",
    " )\n",
    " THEN UPDATE SET\n",
    "     target.is_current = false,\n",
    "     target.modified_date = current_timestamp()\n",
    "\n",
    "\n",
    " WHEN NOT MATCHED\n",
    " THEN INSERT (\n",
    "     Patient_Key,\n",
    "     SRC_PatientID,\n",
    "     FirstName,\n",
    "     LastName,\n",
    "     MiddleName,\n",
    "     SSN,\n",
    "     PhoneNumber,\n",
    "     Gender,\n",
    "     DOB,\n",
    "     Address,\n",
    "     SRC_ModifiedDate,\n",
    "     datasource,\n",
    "     is_quarantined,\n",
    "     inserted_date,\n",
    "     modified_date,\n",
    "     is_current\n",
    " )\n",
    " VALUES (\n",
    "     source.Patient_Key,\n",
    "     source.SRC_PatientID,\n",
    "     source.FirstName,\n",
    "     source.LastName,\n",
    "     source.MiddleName,\n",
    "     source.SSN,\n",
    "     source.PhoneNumber,\n",
    "     source.Gender,\n",
    "     source.DOB,\n",
    "     source.Address,\n",
    "     source.SRC_ModifiedDate,\n",
    "     source.datasource,\n",
    "     source.is_quarantined,\n",
    "     current_timestamp(), -- Set inserted_date to current timestamp\n",
    "     current_timestamp(), -- Set modified_date to current timestamp\n",
    "     true -- Mark as current\n",
    " );\n"
   ]
  },
  {
   "cell_type": "code",
   "execution_count": 0,
   "metadata": {
    "application/vnd.databricks.v1+cell": {
     "cellMetadata": {
      "byteLimit": 2048000,
      "implicitDf": true,
      "rowLimit": 10000
     },
     "inputWidgets": {},
     "nuid": "0ed8304a-3f51-4c94-bce0-6c68929935f9",
     "showTitle": false,
     "tableResultSettingsMap": {},
     "title": ""
    }
   },
   "outputs": [],
   "source": [
    " %sql\n",
    " MERGE INTO trendytechproject.silver.patients AS target\n",
    " USING quality_checks AS source\n",
    " ON target.Patient_Key = source.Patient_Key\n",
    " AND target.is_current = true \n",
    " -- Step 2: Insert new and updated records into the Delta table, marking them as current\n",
    " WHEN NOT MATCHED\n",
    " THEN INSERT (\n",
    "     Patient_Key,\n",
    "     SRC_PatientID,\n",
    "     FirstName,\n",
    "     LastName,\n",
    "     MiddleName,\n",
    "     SSN,\n",
    "     PhoneNumber,\n",
    "     Gender,\n",
    "     DOB,\n",
    "     Address,\n",
    "     SRC_ModifiedDate,\n",
    "     datasource,\n",
    "     is_quarantined,\n",
    "     inserted_date,\n",
    "     modified_date,\n",
    "     is_current\n",
    " )\n",
    " VALUES (\n",
    "     source.Patient_Key,\n",
    "     source.SRC_PatientID,\n",
    "     source.FirstName,\n",
    "     source.LastName,\n",
    "     source.MiddleName,\n",
    "     source.SSN,\n",
    "     source.PhoneNumber,\n",
    "     source.Gender,\n",
    "     source.DOB,\n",
    "     source.Address,\n",
    "     source.SRC_ModifiedDate,\n",
    "     source.datasource,\n",
    "     source.is_quarantined,\n",
    "     current_timestamp(), -- Set inserted_date to current timestamp\n",
    "     current_timestamp(), -- Set modified_date to current timestamp\n",
    "     true -- Mark as current\n",
    " );"
   ]
  },
  {
   "cell_type": "code",
   "execution_count": 0,
   "metadata": {
    "application/vnd.databricks.v1+cell": {
     "cellMetadata": {
      "byteLimit": 2048000,
      "implicitDf": true,
      "rowLimit": 10000
     },
     "inputWidgets": {},
     "nuid": "c86b39cf-15bf-4f43-be66-7ae95514c3d6",
     "showTitle": false,
     "tableResultSettingsMap": {},
     "title": ""
    }
   },
   "outputs": [],
   "source": [
    " %sql\n",
    " select count(*),Patient_Key from trendytechproject.silver.patients\n",
    " group by patient_key\n",
    " order by 1 desc;\n",
    "\n"
   ]
  },
  {
   "cell_type": "code",
   "execution_count": 0,
   "metadata": {
    "application/vnd.databricks.v1+cell": {
     "cellMetadata": {
      "byteLimit": 2048000,
      "rowLimit": 10000
     },
     "inputWidgets": {},
     "nuid": "9df80eae-dd02-46c4-bf4f-94d3f14253f2",
     "showTitle": false,
     "tableResultSettingsMap": {},
     "title": ""
    }
   },
   "outputs": [],
   "source": [
    "silver_patients = spark.sql(\"SELECT * FROM trendytechproject.silver.patients\")\n",
    "silver_patients.write.format(\"delta\").mode(\"append\").save(\"/mnt/silver/patients/\")\n",
    "dbutils.fs.ls(\"/mnt/silver/patients/\")\n"
   ]
  }
 ],
 "metadata": {
  "application/vnd.databricks.v1+notebook": {
   "computePreferences": null,
   "dashboards": [],
   "environmentMetadata": {
    "base_environment": "",
    "client": "1"
   },
   "language": "python",
   "notebookMetadata": {
    "mostRecentlyExecutedCommandWithImplicitDF": {
     "commandId": 7866105202788258,
     "dataframes": [
      "_sqldf"
     ]
    },
    "pythonIndentUnit": 4
   },
   "notebookName": "Patients-Increment",
   "widgets": {}
  },
  "language_info": {
   "name": "python"
  }
 },
 "nbformat": 4,
 "nbformat_minor": 0
}
