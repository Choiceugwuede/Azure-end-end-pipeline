{
 "cells": [
  {
   "cell_type": "code",
   "execution_count": 0,
   "metadata": {
    "application/vnd.databricks.v1+cell": {
     "cellMetadata": {
      "byteLimit": 2048000,
      "implicitDf": true,
      "rowLimit": 10000
     },
     "inputWidgets": {},
     "nuid": "f33ed8d6-9a44-4e82-bd5f-8b2c0becfc4b",
     "showTitle": false,
     "tableResultSettingsMap": {},
     "title": ""
    }
   },
   "outputs": [],
   "source": [
    "%sql\n",
    "-- Create schema if it doesn't exist\n",
    "CREATE SCHEMA IF NOT EXISTS trendytechproject.gold;\n",
    "\n",
    "-- Create table if it doesn't exist\n",
    "CREATE TABLE IF NOT EXISTS trendytechproject.gold.dim_department (\n",
    "  Dept_Id STRING,\n",
    "  SRC_Dept_Id STRING,\n",
    "  Name STRING,\n",
    "  datasource STRING\n",
    ");\n"
   ]
  },
  {
   "cell_type": "code",
   "execution_count": 0,
   "metadata": {
    "application/vnd.databricks.v1+cell": {
     "cellMetadata": {
      "byteLimit": 2048000,
      "implicitDf": true,
      "rowLimit": 10000
     },
     "inputWidgets": {},
     "nuid": "006b819d-057d-43be-a5e2-5b6184f066fc",
     "showTitle": false,
     "tableResultSettingsMap": {},
     "title": ""
    }
   },
   "outputs": [],
   "source": [
    " %sql \n",
    " truncate TABLE trendytechproject.gold.dim_department \n"
   ]
  },
  {
   "cell_type": "code",
   "execution_count": 0,
   "metadata": {
    "application/vnd.databricks.v1+cell": {
     "cellMetadata": {
      "byteLimit": 2048000,
      "implicitDf": true,
      "rowLimit": 10000
     },
     "inputWidgets": {},
     "nuid": "12bfbc67-008b-4867-86d3-de947eb70854",
     "showTitle": false,
     "tableResultSettingsMap": {},
     "title": ""
    }
   },
   "outputs": [],
   "source": [
    "%sql\n",
    "INSERT INTO trendytechproject.gold.dim_department\n",
    "SELECT \n",
    "  DISTINCT Dept_Id,\n",
    "  SRC_Dept_Id,\n",
    "  Name,\n",
    "  datasource\n",
    "FROM trendytechproject.silver.departments\n",
    "WHERE is_quarantined = false;\n"
   ]
  },
  {
   "cell_type": "code",
   "execution_count": 0,
   "metadata": {
    "application/vnd.databricks.v1+cell": {
     "cellMetadata": {
      "byteLimit": 2048000,
      "implicitDf": true,
      "rowLimit": 10000
     },
     "inputWidgets": {},
     "nuid": "a976162f-5292-44aa-8a38-89029ecb1a0d",
     "showTitle": false,
     "tableResultSettingsMap": {},
     "title": ""
    }
   },
   "outputs": [],
   "source": [
    "%sql\n",
    "SELECT * FROM trendytechproject.gold.dim_department;\n"
   ]
  },
  {
   "cell_type": "code",
   "execution_count": 0,
   "metadata": {
    "application/vnd.databricks.v1+cell": {
     "cellMetadata": {
      "byteLimit": 2048000,
      "rowLimit": 10000
     },
     "inputWidgets": {},
     "nuid": "447ad0e8-9bf9-499b-927a-4a705cd44b10",
     "showTitle": false,
     "tableResultSettingsMap": {},
     "title": ""
    }
   },
   "outputs": [],
   "source": [
    "gold_dim_department = spark.sql(\"SELECT * FROM trendytechproject.gold.dim_department\")\n",
    "gold_dim_department.write.format(\"delta\").mode(\"overwrite\").save(\"/mnt/gold/dim_department/\")\n",
    "dbutils.fs.ls(\"/mnt/gold/dim_department/\")\n"
   ]
  }
 ],
 "metadata": {
  "application/vnd.databricks.v1+notebook": {
   "computePreferences": null,
   "dashboards": [],
   "environmentMetadata": {
    "base_environment": "",
    "client": "1"
   },
   "language": "python",
   "notebookMetadata": {
    "mostRecentlyExecutedCommandWithImplicitDF": {
     "commandId": 4912515131955039,
     "dataframes": [
      "_sqldf"
     ]
    },
    "pythonIndentUnit": 4
   },
   "notebookName": "dim_department",
   "widgets": {}
  },
  "language_info": {
   "name": "python"
  }
 },
 "nbformat": 4,
 "nbformat_minor": 0
}
