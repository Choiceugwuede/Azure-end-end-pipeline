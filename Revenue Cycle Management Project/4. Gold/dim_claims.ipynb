{
 "cells": [
  {
   "cell_type": "code",
   "execution_count": 0,
   "metadata": {
    "application/vnd.databricks.v1+cell": {
     "cellMetadata": {
      "byteLimit": 2048000,
      "implicitDf": true,
      "rowLimit": 10000
     },
     "inputWidgets": {},
     "nuid": "87197737-2052-4089-8355-86e5328ec48a",
     "showTitle": false,
     "tableResultSettingsMap": {},
     "title": ""
    }
   },
   "outputs": [],
   "source": [
    "%sql\n",
    "CREATE TABLE IF NOT EXISTS trendytechproject.gold.dim_claim (\n",
    "  ClaimID string,\n",
    " SRC_ClaimID string,\n",
    " ClaimDate date,\n",
    " PayorID string,\n",
    " ClaimAmount string,\n",
    " ClaimStatus string,\n",
    " PayorType string,\n",
    " Deductible string,\n",
    " Coinsurance string,\n",
    " Copay string,\n",
    " datasource string\n",
    " )\n",
    " USING DELTA;\n",
    "    "
   ]
  },
  {
   "cell_type": "code",
   "execution_count": 0,
   "metadata": {
    "application/vnd.databricks.v1+cell": {
     "cellMetadata": {
      "byteLimit": 2048000,
      "implicitDf": true,
      "rowLimit": 10000
     },
     "inputWidgets": {},
     "nuid": "c72504db-2b2b-4b05-9672-323196f76f33",
     "showTitle": false,
     "tableResultSettingsMap": {},
     "title": ""
    }
   },
   "outputs": [],
   "source": [
    "%sql\n",
    "TRUNCATE TABLE trendytechproject.gold.dim_claim;"
   ]
  },
  {
   "cell_type": "code",
   "execution_count": 0,
   "metadata": {
    "application/vnd.databricks.v1+cell": {
     "cellMetadata": {
      "byteLimit": 2048000,
      "implicitDf": true,
      "rowLimit": 10000
     },
     "inputWidgets": {},
     "nuid": "7f700549-65d6-481c-9aed-8c7c39e43c8c",
     "showTitle": false,
     "tableResultSettingsMap": {},
     "title": ""
    }
   },
   "outputs": [],
   "source": [
    "%sql\n",
    "INSERT INTO trendytechproject.gold.dim_claim\n",
    "SELECT \n",
    "    ClaimID,\n",
    "     SRC_ClaimID,\n",
    "     ClaimDate,\n",
    "     PayorID,\n",
    "     ClaimAmount,\n",
    "     ClaimStatus,\n",
    "     PayorType,\n",
    "     Deductible,\n",
    "     Coinsurance,\n",
    "     Copay,\n",
    "     datasource\n",
    "FROM trendytechproject.silver.claims\n",
    "WHERE is_current = true AND is_quarantined = false;\n"
   ]
  },
  {
   "cell_type": "code",
   "execution_count": 0,
   "metadata": {
    "application/vnd.databricks.v1+cell": {
     "cellMetadata": {
      "byteLimit": 2048000,
      "implicitDf": true,
      "rowLimit": 10000
     },
     "inputWidgets": {},
     "nuid": "dadeb13e-28a0-4ee9-b6f5-3ef11b5372a2",
     "showTitle": false,
     "tableResultSettingsMap": {},
     "title": ""
    }
   },
   "outputs": [],
   "source": [
    "%sql\n",
    "SELECT * FROM  trendytechproject.gold.dim_claim;"
   ]
  },
  {
   "cell_type": "code",
   "execution_count": 0,
   "metadata": {
    "application/vnd.databricks.v1+cell": {
     "cellMetadata": {
      "byteLimit": 2048000,
      "rowLimit": 10000
     },
     "inputWidgets": {},
     "nuid": "bbc49072-b339-4cb3-b241-860e377a8dd7",
     "showTitle": false,
     "tableResultSettingsMap": {},
     "title": ""
    }
   },
   "outputs": [],
   "source": [
    "gold_dim_claim = spark.sql(\"SELECT * FROM trendytechproject.gold.dim_claim\")\n",
    "gold_dim_claim.write.format(\"delta\").mode(\"overwrite\").save(\"/mnt/gold/dim_claim/\")\n",
    "dbutils.fs.ls(\"/mnt/gold/dim_claim/\")\n"
   ]
  }
 ],
 "metadata": {
  "application/vnd.databricks.v1+notebook": {
   "computePreferences": null,
   "dashboards": [],
   "environmentMetadata": {
    "base_environment": "",
    "client": "1"
   },
   "language": "python",
   "notebookMetadata": {
    "mostRecentlyExecutedCommandWithImplicitDF": {
     "commandId": 6588129058263439,
     "dataframes": [
      "_sqldf"
     ]
    },
    "pythonIndentUnit": 4
   },
   "notebookName": "dim_claims",
   "widgets": {}
  },
  "language_info": {
   "name": "python"
  }
 },
 "nbformat": 4,
 "nbformat_minor": 0
}
